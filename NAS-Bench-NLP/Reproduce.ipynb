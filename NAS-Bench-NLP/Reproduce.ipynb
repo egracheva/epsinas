{
 "cells": [
  {
   "cell_type": "markdown",
   "id": "2d174ae4",
   "metadata": {},
   "source": [
    "# Epsilon metric reproduction\n",
    "\n",
    "If you wish to reproduce the results presented in our paper from scratch, feel free to use the below code. Since\\\n",
    "the version of torch used by the authors of NAS-Bench-NLP is too old, we run our tests on everything on CPU. \\\n",
    "While the procedure is quite light, it still took us several hours to evaluate the whole benchmark dataset of over\\\n",
    "14k architectures.\n",
    "\n",
    "We provide the codes to reproduce the results for single run and multiple runs architectures on PennTreebank data."
   ]
  },
  {
   "cell_type": "code",
   "execution_count": 1,
   "id": "07200fbe",
   "metadata": {},
   "outputs": [],
   "source": [
    "import os\n",
    "import json\n",
    "import data\n",
    "\n",
    "import numpy as np\n",
    "import pickle as pkl\n",
    "import seaborn as sns\n",
    "from tqdm import trange\n",
    "\n",
    "import torch\n",
    "import torch.nn as nn\n",
    "\n",
    "from utils import batchify\n",
    "from argparse import Namespace\n",
    "from model import AWDRNNModel\n",
    "\n",
    "from utils import get_batch\n",
    "\n",
    "from epsinas_utils import compute_epsinas, prepare_seed, prepare_recepies"
   ]
  },
  {
   "cell_type": "markdown",
   "id": "64476bd3",
   "metadata": {},
   "source": [
    "## Single run with Penn Tree Bank\n",
    "\n",
    "14322 randomly created architectures are trained with a single seed.\n",
    "\n",
    "It takes about 2 GPU hours to reproduce our results from scratch."
   ]
  },
  {
   "cell_type": "code",
   "execution_count": 2,
   "id": "36e79d2d",
   "metadata": {},
   "outputs": [
    {
     "name": "stderr",
     "output_type": "stream",
     "text": [
      "/usr/bin/nvidia-modprobe: unrecognized option: \"-s\"\n",
      "\n",
      "ERROR: Invalid commandline, please run `/usr/bin/nvidia-modprobe --help` for usage information.\n",
      "\n",
      "\n",
      "/usr/bin/nvidia-modprobe: unrecognized option: \"-s\"\n",
      "\n",
      "ERROR: Invalid commandline, please run `/usr/bin/nvidia-modprobe --help` for usage information.\n",
      "\n",
      "\n"
     ]
    }
   ],
   "source": [
    "# Prepare a fixed batch of data\n",
    "file_list=os.listdir(\"train_logs_single_run/\")\n",
    "log_dflt = json.load(open('train_logs_single_run/' + file_list[0], 'r'))\n",
    "args = Namespace(**log_dflt)\n",
    "corpus = data.Corpus(args.data)\n",
    "\n",
    "if torch.cuda.is_available():\n",
    "    args.cuda = True\n",
    "    device = \"cuda\"\n",
    "    os.environ['CUDA_VISIBLE_DEVICES'] = '1'\n",
    "    \n",
    "else:\n",
    "    args.cuda = False\n",
    "    device = \"cpu\"\n",
    "    \n",
    "device = torch.device(device)\n",
    "\n",
    "ntokens = len(corpus.dictionary)\n",
    "batch_size = 256\n",
    "\n",
    "train_eval_data = batchify(corpus.train, batch_size, args, device)\n",
    "x, _ = get_batch(train_eval_data, 0, args, evaluation=True)"
   ]
  },
  {
   "cell_type": "code",
   "execution_count": 3,
   "id": "17e94c94",
   "metadata": {},
   "outputs": [],
   "source": [
    "# Reproducibility\n",
    "torch.backends.cudnn.deterministic = True\n",
    "torch.backends.cudnn.benchmark = False\n",
    "prepare_seed(21)"
   ]
  },
  {
   "cell_type": "code",
   "execution_count": 4,
   "id": "7c290acf",
   "metadata": {},
   "outputs": [],
   "source": [
    "# Setting up the weights\n",
    "weight_l = 1e-5\n",
    "weight_h = 1e-3"
   ]
  },
  {
   "cell_type": "code",
   "execution_count": 5,
   "id": "8dfc8787",
   "metadata": {
    "scrolled": true
   },
   "outputs": [
    {
     "name": "stderr",
     "output_type": "stream",
     "text": [
      "  0%|                                       | 6/14322 [00:04<2:38:00,  1.51it/s]/home/gracheva/Work/epsinas/NAS-Bench-NLP/epsinas_utils.py:73: RuntimeWarning: invalid value encountered in true_divide\n",
      "  pred_norm = (pred - pred_min)/(pred_max - pred_min)\n",
      "/home/gracheva/Work/epsinas/NAS-Bench-NLP/epsinas_utils.py:79: RuntimeWarning: Mean of empty slice\n",
      "  mae = np.nanmean(np.abs(preds[0,:]-preds[1,:]))\n",
      "/home/gracheva/Work/epsinas/NAS-Bench-NLP/epsinas_utils.py:80: RuntimeWarning: Mean of empty slice\n",
      "  score = np.nanmean(mae)/np.nanmean(preds)\n",
      "  0%|                                      | 32/14322 [00:18<2:04:48,  1.91it/s]/home/gracheva/Work/epsinas/NAS-Bench-NLP/epsinas_utils.py:73: RuntimeWarning: invalid value encountered in subtract\n",
      "  pred_norm = (pred - pred_min)/(pred_max - pred_min)\n",
      "100%|███████████████████████████████████| 14322/14322 [2:09:01<00:00,  1.85it/s]\n"
     ]
    }
   ],
   "source": [
    "save_dir = '../epsinas-release-data/NAS-Bench-NLP/evaluation/single_seed/'\n",
    "os.makedirs(save_dir, exist_ok=True)\n",
    "\n",
    "datafile_name = f'{save_dir}/data_NAS-Bench-NLP_single_06032025'\n",
    "\n",
    "# Setting up the weights\n",
    "weights = [1e-5, 1e-3]\n",
    "\n",
    "if os.path.exists(datafile_name):\n",
    "    # Load precomputed results\n",
    "    datafile = open(datafile_name,'rb')\n",
    "    input_data = pkl.load(datafile)\n",
    "    scores = input_data[\"scores\"]\n",
    "    accs = input_data[\"accs\"]\n",
    "    nparams = input_data[\"nparams\"]\n",
    "    datafile.close()\n",
    "else:\n",
    "    accs = []\n",
    "    nparams = []\n",
    "    scores = []\n",
    "\n",
    "    for i in trange(len(file_list)):\n",
    "        file = file_list[i]\n",
    "        log = json.load(open('train_logs_single_run/' + file, 'r'))\n",
    "        args = Namespace(**log)\n",
    "\n",
    "        # Build the model\n",
    "        network = AWDRNNModel(args.model,\n",
    "                              ntokens,\n",
    "                              args.emsize,\n",
    "                              args.nhid,\n",
    "                              args.nlayers,\n",
    "                              args.dropout,\n",
    "                              args.dropouth,\n",
    "                              args.dropouti,\n",
    "                              args.dropoute,\n",
    "                              args.wdrop,\n",
    "                              args.tied,\n",
    "                              args.recepie,\n",
    "                              verbose=False)\n",
    "        # print(network.modules)\n",
    "        network = network.to(device)\n",
    "        score = compute_epsinas(x, network, weights, batch_size)\n",
    "        scores.append(score)\n",
    "        try:\n",
    "            accs.append(log['test_losses'][-1])\n",
    "        except:\n",
    "            # Some architectures have no reported test perplexity\n",
    "            accs.append(np.nan)\n",
    "        nparams.append(args.num_params)\n",
    "\n",
    "    # Save the results\n",
    "    save_dic = {}\n",
    "    save_dic[\"scores\"] = scores\n",
    "    save_dic[\"accs\"] = accs\n",
    "    save_dic[\"nparams\"] = nparams\n",
    "\n",
    "    pkl.dump(save_dic, open(datafile_name, \"wb\"))"
   ]
  },
  {
   "cell_type": "markdown",
   "id": "6b07c699",
   "metadata": {},
   "source": [
    "## Multiple runs with Penn Tree Bank\n",
    "\n",
    "4114 randomly created architectures trained with 3 random seeds."
   ]
  },
  {
   "cell_type": "code",
   "execution_count": 2,
   "id": "3b894872",
   "metadata": {},
   "outputs": [
    {
     "name": "stderr",
     "output_type": "stream",
     "text": [
      "/usr/bin/nvidia-modprobe: unrecognized option: \"-s\"\n",
      "\n",
      "ERROR: Invalid commandline, please run `/usr/bin/nvidia-modprobe --help` for usage information.\n",
      "\n",
      "\n",
      "/usr/bin/nvidia-modprobe: unrecognized option: \"-s\"\n",
      "\n",
      "ERROR: Invalid commandline, please run `/usr/bin/nvidia-modprobe --help` for usage information.\n",
      "\n",
      "\n"
     ]
    }
   ],
   "source": [
    "# Prepare a fixed batch of data\n",
    "file_list=os.listdir(\"train_logs_multi_runs/\")\n",
    "log_dflt = json.load(open('train_logs_multi_runs/' + file_list[0], 'r'))\n",
    "args = Namespace(**log_dflt)\n",
    "corpus = data.Corpus(args.data)\n",
    "\n",
    "\n",
    "\n",
    "if torch.cuda.is_available():\n",
    "    args.cuda = True\n",
    "    device = \"cuda\"\n",
    "    os.environ['CUDA_VISIBLE_DEVICES'] = '1'\n",
    "    \n",
    "else:\n",
    "    args.cuda = False\n",
    "    device = \"cpu\"\n",
    "    \n",
    "device = torch.device(device)\n",
    "\n",
    "ntokens = len(corpus.dictionary)\n",
    "batch_size = 256\n",
    "\n",
    "train_eval_data = batchify(corpus.train, batch_size, args, device)\n",
    "x, _ = get_batch(train_eval_data, 0, args, evaluation=True)"
   ]
  },
  {
   "cell_type": "code",
   "execution_count": 3,
   "id": "b68bce1f",
   "metadata": {},
   "outputs": [],
   "source": [
    "# Reproducibility\n",
    "torch.backends.cudnn.deterministic = True\n",
    "torch.backends.cudnn.benchmark = False\n",
    "prepare_seed(21)"
   ]
  },
  {
   "cell_type": "code",
   "execution_count": 4,
   "id": "b250aba5",
   "metadata": {},
   "outputs": [],
   "source": [
    "recepie_dic = prepare_recepies()\n",
    "recepies = list(recepie_dic.keys())"
   ]
  },
  {
   "cell_type": "code",
   "execution_count": 5,
   "id": "d4337e9b",
   "metadata": {},
   "outputs": [
    {
     "name": "stderr",
     "output_type": "stream",
     "text": [
      "  0%|                                          | 6/4114 [00:03<39:34,  1.73it/s]/home/gracheva/Work/epsinas/NAS-Bench-NLP/epsinas_utils.py:73: RuntimeWarning: invalid value encountered in true_divide\n",
      "  pred_norm = (pred - pred_min)/(pred_max - pred_min)\n",
      "/home/gracheva/Work/epsinas/NAS-Bench-NLP/epsinas_utils.py:79: RuntimeWarning: Mean of empty slice\n",
      "  mae = np.nanmean(np.abs(preds[0,:]-preds[1,:]))\n",
      "/home/gracheva/Work/epsinas/NAS-Bench-NLP/epsinas_utils.py:80: RuntimeWarning: Mean of empty slice\n",
      "  score = np.nanmean(mae)/np.nanmean(preds)\n",
      "  0%|                                         | 10/4114 [00:06<39:32,  1.73it/s]/home/gracheva/miniconda3/envs/smilesx/lib/python3.7/site-packages/ipykernel_launcher.py:64: RuntimeWarning: Mean of empty slice\n",
      "/home/gracheva/miniconda3/envs/smilesx/lib/python3.7/site-packages/ipykernel_launcher.py:65: RuntimeWarning: All-NaN axis encountered\n",
      "/home/gracheva/miniconda3/envs/smilesx/lib/python3.7/site-packages/ipykernel_launcher.py:66: RuntimeWarning: All-NaN axis encountered\n",
      "  0%|▏                                        | 13/4114 [00:07<40:21,  1.69it/s]/home/gracheva/Work/epsinas/NAS-Bench-NLP/epsinas_utils.py:73: RuntimeWarning: invalid value encountered in subtract\n",
      "  pred_norm = (pred - pred_min)/(pred_max - pred_min)\n",
      "100%|███████████████████████████████████████| 4114/4114 [35:05<00:00,  1.95it/s]\n"
     ]
    }
   ],
   "source": [
    "save_dir = '../epsinas-release-data/NAS-Bench-NLP/evaluation/three_seeds/'\n",
    "os.makedirs(save_dir, exist_ok=True)\n",
    "\n",
    "datafile_name = f'{save_dir}/data_NAS-Bench-NLP_three_n06032025'\n",
    "\n",
    "# Setting up the weights\n",
    "weights = [1e-5, 1e-3]\n",
    "\n",
    "if os.path.exists(datafile_name):\n",
    "    # Load precomputed results\n",
    "    datafile = open(datafile_name,'rb')\n",
    "    input_data = pkl.load(datafile)\n",
    "    scores = input_data[\"scores\"]\n",
    "    accs_mean = input_data[\"accs_mean\"]\n",
    "    accs_min = input_data[\"accs_min\"]\n",
    "    accs_max = input_data[\"accs_max\"]\n",
    "    nparams = input_data[\"nparams\"]\n",
    "    datafile.close()\n",
    "else:\n",
    "\n",
    "    accs_mean = []\n",
    "    accs_min = []\n",
    "    accs_max = []\n",
    "    nparams = []\n",
    "    scores = []\n",
    "\n",
    "    for i in trange(len(recepie_dic)):\n",
    "        rec = recepies[i]\n",
    "        indices = recepie_dic[rec]\n",
    "        # As for the same recepie the metric performance does not change,\n",
    "        # we only need to compute it once\n",
    "        file = file_list[indices[0]]\n",
    "        log = json.load(open('train_logs_multi_runs/' + file, 'r'))\n",
    "        args = Namespace(**log)\n",
    "\n",
    "        # Build the model\n",
    "        network = AWDRNNModel(args.model,\n",
    "                              ntokens,\n",
    "                              args.emsize,\n",
    "                              args.nhid,\n",
    "                              args.nlayers,\n",
    "                              args.dropout,\n",
    "                              args.dropouth,\n",
    "                              args.dropouti,\n",
    "                              args.dropoute,\n",
    "                              args.wdrop,\n",
    "                              args.tied,\n",
    "                              args.recepie,\n",
    "                              verbose=False)\n",
    "        network = network.to(device)\n",
    "        score = compute_epsinas(x, network, weights, batch_size)\n",
    "        scores.append(score)\n",
    "        # Retrive 3 seeds test errors\n",
    "        acc_run = []\n",
    "        for ind in indices:\n",
    "            file = file_list[ind]\n",
    "            log = json.load(open('train_logs_multi_runs/' + file, 'r'))\n",
    "            args = Namespace(**log)\n",
    "            try:\n",
    "                acc_run.append(log['test_losses'][-1])\n",
    "            except: \n",
    "                acc_run.append(np.nan)\n",
    "\n",
    "        accs_mean.append(np.nanmean(acc_run))\n",
    "        accs_min.append(np.nanmin(acc_run))\n",
    "        accs_max.append(np.nanmax(acc_run))\n",
    "        nparams.append(args.num_params)\n",
    "\n",
    "    # Save the results\n",
    "    save_dic = {}\n",
    "    save_dic[\"scores\"] = scores\n",
    "    save_dic[\"accs_mean\"] = accs_mean\n",
    "    save_dic[\"accs_min\"] = accs_min\n",
    "    save_dic[\"accs_max\"] = accs_max\n",
    "    save_dic[\"nparams\"] = nparams\n",
    "\n",
    "    pkl.dump(save_dic, open(datafile_name, \"wb\"))"
   ]
  },
  {
   "cell_type": "code",
   "execution_count": null,
   "id": "ca6bc948",
   "metadata": {},
   "outputs": [],
   "source": []
  }
 ],
 "metadata": {
  "kernelspec": {
   "display_name": "Python 3 (ipykernel)",
   "language": "python",
   "name": "python3"
  },
  "language_info": {
   "codemirror_mode": {
    "name": "ipython",
    "version": 3
   },
   "file_extension": ".py",
   "mimetype": "text/x-python",
   "name": "python",
   "nbconvert_exporter": "python",
   "pygments_lexer": "ipython3",
   "version": "3.7.11"
  }
 },
 "nbformat": 4,
 "nbformat_minor": 5
}
